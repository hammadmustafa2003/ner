{
 "cells": [
  {
   "cell_type": "code",
   "execution_count": 19,
   "metadata": {},
   "outputs": [],
   "source": [
    "import numpy as np\n",
    "import pandas as pd\n",
    "import tensorflow as tf\n",
    "from tensorflow.keras.models import Model\n",
    "from tensorflow.keras.layers import Input, Embedding, LSTM, Dense, TimeDistributed"
   ]
  },
  {
   "cell_type": "code",
   "execution_count": 15,
   "metadata": {},
   "outputs": [
    {
     "name": "stdout",
     "output_type": "stream",
     "text": [
      "<class 'pandas.core.frame.DataFrame'>\n",
      "RangeIndex: 1048575 entries, 0 to 1048574\n",
      "Data columns (total 4 columns):\n",
      " #   Column      Non-Null Count    Dtype \n",
      "---  ------      --------------    ----- \n",
      " 0   Sentence #  1048575 non-null  int64 \n",
      " 1   Word        1048575 non-null  object\n",
      " 2   POS         1048575 non-null  object\n",
      " 3   Tag         1048575 non-null  object\n",
      "dtypes: int64(1), object(3)\n",
      "memory usage: 32.0+ MB\n"
     ]
    }
   ],
   "source": [
    "df = pd.read_csv('data/ner_dataset.csv', encoding = \"ISO-8859-1\")\n",
    "df.head(10)\n",
    "\n",
    "df = df.fillna(method = 'ffill')\n",
    "df['Sentence #'] = df['Sentence #'].apply(lambda x: int(x.split(':')[1]))\n",
    "\n",
    "df.info()\n"
   ]
  },
  {
   "cell_type": "code",
   "execution_count": 21,
   "metadata": {},
   "outputs": [
    {
     "data": {
      "text/html": [
       "<div>\n",
       "<style scoped>\n",
       "    .dataframe tbody tr th:only-of-type {\n",
       "        vertical-align: middle;\n",
       "    }\n",
       "\n",
       "    .dataframe tbody tr th {\n",
       "        vertical-align: top;\n",
       "    }\n",
       "\n",
       "    .dataframe thead th {\n",
       "        text-align: right;\n",
       "    }\n",
       "</style>\n",
       "<table border=\"1\" class=\"dataframe\">\n",
       "  <thead>\n",
       "    <tr style=\"text-align: right;\">\n",
       "      <th></th>\n",
       "      <th>Sentence #</th>\n",
       "      <th>Word</th>\n",
       "      <th>Tag</th>\n",
       "    </tr>\n",
       "  </thead>\n",
       "  <tbody>\n",
       "    <tr>\n",
       "      <th>0</th>\n",
       "      <td>1</td>\n",
       "      <td>Thousands of demonstrators have marched throug...</td>\n",
       "      <td>O O O O O O B-geo O O O O O B-geo O O O O O B-...</td>\n",
       "    </tr>\n",
       "    <tr>\n",
       "      <th>1</th>\n",
       "      <td>2</td>\n",
       "      <td>Families of soldiers killed in the conflict jo...</td>\n",
       "      <td>O O O O O O O O O O O O O O O O O O B-per O O ...</td>\n",
       "    </tr>\n",
       "    <tr>\n",
       "      <th>2</th>\n",
       "      <td>3</td>\n",
       "      <td>They marched from the Houses of Parliament to ...</td>\n",
       "      <td>O O O O O O O O O O O B-geo I-geo O</td>\n",
       "    </tr>\n",
       "    <tr>\n",
       "      <th>3</th>\n",
       "      <td>4</td>\n",
       "      <td>Police put the number of marchers at 10,000 wh...</td>\n",
       "      <td>O O O O O O O O O O O O O O O</td>\n",
       "    </tr>\n",
       "    <tr>\n",
       "      <th>4</th>\n",
       "      <td>5</td>\n",
       "      <td>The protest comes on the eve of the annual con...</td>\n",
       "      <td>O O O O O O O O O O O B-geo O O B-org I-org O ...</td>\n",
       "    </tr>\n",
       "    <tr>\n",
       "      <th>5</th>\n",
       "      <td>6</td>\n",
       "      <td>The party is divided over Britain 's participa...</td>\n",
       "      <td>O O O O O B-gpe O O O O B-geo O O O O O O O B-...</td>\n",
       "    </tr>\n",
       "    <tr>\n",
       "      <th>6</th>\n",
       "      <td>7</td>\n",
       "      <td>The London march came ahead of anti-war protes...</td>\n",
       "      <td>O B-geo O O O O O O O O O O O O B-geo O B-geo ...</td>\n",
       "    </tr>\n",
       "    <tr>\n",
       "      <th>7</th>\n",
       "      <td>8</td>\n",
       "      <td>The International Atomic Energy Agency is to h...</td>\n",
       "      <td>O B-org I-org I-org I-org O O O O O O O O B-ge...</td>\n",
       "    </tr>\n",
       "    <tr>\n",
       "      <th>8</th>\n",
       "      <td>9</td>\n",
       "      <td>Iran this week restarted parts of the conversi...</td>\n",
       "      <td>B-gpe O O O O O O O O O O B-geo O O O</td>\n",
       "    </tr>\n",
       "    <tr>\n",
       "      <th>9</th>\n",
       "      <td>10</td>\n",
       "      <td>Iranian officials say they expect to get acces...</td>\n",
       "      <td>B-gpe O O O O O O O O O O O O O O B-tim O O O ...</td>\n",
       "    </tr>\n",
       "  </tbody>\n",
       "</table>\n",
       "</div>"
      ],
      "text/plain": [
       "   Sentence #                                               Word  \\\n",
       "0           1  Thousands of demonstrators have marched throug...   \n",
       "1           2  Families of soldiers killed in the conflict jo...   \n",
       "2           3  They marched from the Houses of Parliament to ...   \n",
       "3           4  Police put the number of marchers at 10,000 wh...   \n",
       "4           5  The protest comes on the eve of the annual con...   \n",
       "5           6  The party is divided over Britain 's participa...   \n",
       "6           7  The London march came ahead of anti-war protes...   \n",
       "7           8  The International Atomic Energy Agency is to h...   \n",
       "8           9  Iran this week restarted parts of the conversi...   \n",
       "9          10  Iranian officials say they expect to get acces...   \n",
       "\n",
       "                                                 Tag  \n",
       "0  O O O O O O B-geo O O O O O B-geo O O O O O B-...  \n",
       "1  O O O O O O O O O O O O O O O O O O B-per O O ...  \n",
       "2                O O O O O O O O O O O B-geo I-geo O  \n",
       "3                      O O O O O O O O O O O O O O O  \n",
       "4  O O O O O O O O O O O B-geo O O B-org I-org O ...  \n",
       "5  O O O O O B-gpe O O O O B-geo O O O O O O O B-...  \n",
       "6  O B-geo O O O O O O O O O O O O B-geo O B-geo ...  \n",
       "7  O B-org I-org I-org I-org O O O O O O O O B-ge...  \n",
       "8              B-gpe O O O O O O O O O O B-geo O O O  \n",
       "9  B-gpe O O O O O O O O O O O O O O B-tim O O O ...  "
      ]
     },
     "execution_count": 21,
     "metadata": {},
     "output_type": "execute_result"
    }
   ],
   "source": [
    "grouped_data = df.groupby(\"Sentence #\").agg({\"Word\": \" \".join, \"Tag\": \" \".join}).reset_index()\n",
    "grouped_data.head(10)"
   ]
  },
  {
   "cell_type": "code",
   "execution_count": 22,
   "metadata": {},
   "outputs": [],
   "source": [
    "train_texts = grouped_data[\"Word\"].tolist()\n",
    "train_labels = grouped_data[\"Tag\"].tolist()\n",
    "\n",
    "# Create a vocabulary\n",
    "vocab = set(\" \".join(train_texts).split())\n",
    "vocab.add(\"PAD\")\n",
    "vocab_size = len(vocab)\n",
    "tag_vocab = set(\" \".join(train_labels).split())\n",
    "tag_vocab_size = len(tag_vocab)\n",
    "\n",
    "# Create mappings between words/tags and their indices\n",
    "word2idx = {word: idx for idx, word in enumerate(vocab)}\n",
    "tag2idx = {tag: idx for idx, tag in enumerate(tag_vocab)}\n",
    "\n",
    "# Convert text and labels into numerical sequences\n",
    "train_text_sequences = [[word2idx[word] for word in text.split()] for text in train_texts]\n",
    "train_label_sequences = [[tag2idx[tag] for tag in label.split()] for label in train_labels]\n"
   ]
  },
  {
   "cell_type": "code",
   "execution_count": 35,
   "metadata": {},
   "outputs": [],
   "source": [
    "max_seq_length = max(len(seq) for seq in train_text_sequences)\n",
    "train_text_sequences = tf.keras.preprocessing.sequence.pad_sequences(train_text_sequences, maxlen=max_seq_length, padding=\"post\")\n",
    "train_label_sequences = tf.keras.preprocessing.sequence.pad_sequences(train_label_sequences, maxlen=max_seq_length, padding=\"post\")\n",
    "\n",
    "f = open(\"maxlenseq\", \"a\")\n",
    "f.write(f\"{max_seq_length}\")\n",
    "f.close()\n"
   ]
  },
  {
   "cell_type": "code",
   "execution_count": 24,
   "metadata": {},
   "outputs": [],
   "source": [
    "input_layer = Input(shape=(max_seq_length,))\n",
    "embedding_layer = Embedding(input_dim=vocab_size, output_dim=64, input_length=max_seq_length)(input_layer)\n",
    "lstm_layer = LSTM(units=64, return_sequences=True)(embedding_layer)\n",
    "output_layer = TimeDistributed(Dense(units=tag_vocab_size, activation=\"softmax\"))(lstm_layer)\n",
    "\n",
    "model = Model(input_layer, output_layer)\n",
    "model.compile(loss=\"sparse_categorical_crossentropy\", optimizer=\"adam\", metrics=[\"accuracy\"])\n"
   ]
  },
  {
   "cell_type": "code",
   "execution_count": 25,
   "metadata": {},
   "outputs": [
    {
     "name": "stdout",
     "output_type": "stream",
     "text": [
      "Epoch 1/10\n",
      "1199/1199 [==============================] - 92s 75ms/step - loss: 0.1657 - accuracy: 0.9648 - val_loss: 0.0487 - val_accuracy: 0.9878\n",
      "Epoch 2/10\n",
      "1199/1199 [==============================] - 85s 71ms/step - loss: 0.0335 - accuracy: 0.9912 - val_loss: 0.0303 - val_accuracy: 0.9912\n",
      "Epoch 3/10\n",
      "1199/1199 [==============================] - 82s 69ms/step - loss: 0.0227 - accuracy: 0.9932 - val_loss: 0.0284 - val_accuracy: 0.9914\n",
      "Epoch 4/10\n",
      "1199/1199 [==============================] - 82s 68ms/step - loss: 0.0189 - accuracy: 0.9940 - val_loss: 0.0276 - val_accuracy: 0.9916\n",
      "Epoch 5/10\n",
      "1199/1199 [==============================] - 83s 69ms/step - loss: 0.0166 - accuracy: 0.9946 - val_loss: 0.0280 - val_accuracy: 0.9916\n",
      "Epoch 6/10\n",
      "1199/1199 [==============================] - 91s 76ms/step - loss: 0.0148 - accuracy: 0.9951 - val_loss: 0.0294 - val_accuracy: 0.9915\n",
      "Epoch 7/10\n",
      "1199/1199 [==============================] - 98s 82ms/step - loss: 0.0134 - accuracy: 0.9955 - val_loss: 0.0296 - val_accuracy: 0.9912\n",
      "Epoch 8/10\n",
      "1199/1199 [==============================] - 94s 78ms/step - loss: 0.0120 - accuracy: 0.9959 - val_loss: 0.0308 - val_accuracy: 0.9914\n",
      "Epoch 9/10\n",
      "1199/1199 [==============================] - 81s 68ms/step - loss: 0.0108 - accuracy: 0.9963 - val_loss: 0.0330 - val_accuracy: 0.9912\n",
      "Epoch 10/10\n",
      "1199/1199 [==============================] - 85s 71ms/step - loss: 0.0097 - accuracy: 0.9967 - val_loss: 0.0342 - val_accuracy: 0.9908\n"
     ]
    },
    {
     "data": {
      "text/plain": [
       "<keras.callbacks.History at 0x2a69ead8790>"
      ]
     },
     "execution_count": 25,
     "metadata": {},
     "output_type": "execute_result"
    }
   ],
   "source": [
    "model.fit(train_text_sequences, train_label_sequences, batch_size=32, epochs=10, validation_split=0.2)\n"
   ]
  },
  {
   "cell_type": "code",
   "execution_count": 30,
   "metadata": {},
   "outputs": [
    {
     "name": "stderr",
     "output_type": "stream",
     "text": [
      "WARNING:absl:Found untraced functions such as _update_step_xla, lstm_cell_layer_call_fn, lstm_cell_layer_call_and_return_conditional_losses while saving (showing 3 of 3). These functions will not be directly callable after loading.\n"
     ]
    },
    {
     "name": "stdout",
     "output_type": "stream",
     "text": [
      "INFO:tensorflow:Assets written to: ner_model.model\\assets\n"
     ]
    },
    {
     "name": "stderr",
     "output_type": "stream",
     "text": [
      "INFO:tensorflow:Assets written to: ner_model.model\\assets\n"
     ]
    }
   ],
   "source": [
    "model.save(\"ner_model.model\")"
   ]
  },
  {
   "cell_type": "code",
   "execution_count": 37,
   "metadata": {},
   "outputs": [],
   "source": [
    "import pickle\n",
    "\n",
    "\n",
    "# Create mappings between indices and tags\n",
    "idx2tag = {idx: tag for tag, idx in tag2idx.items()}\n",
    "\n",
    "variables = {\n",
    "    'maxlenseq': max_seq_length,\n",
    "    'word2idx': word2idx,\n",
    "    'idx2tag': idx2tag\n",
    "}\n",
    "with open('file.var', 'wb') as file:\n",
    "    pickle.dump(variables, file)"
   ]
  }
 ],
 "metadata": {
  "kernelspec": {
   "display_name": "Python 3",
   "language": "python",
   "name": "python3"
  },
  "language_info": {
   "codemirror_mode": {
    "name": "ipython",
    "version": 3
   },
   "file_extension": ".py",
   "mimetype": "text/x-python",
   "name": "python",
   "nbconvert_exporter": "python",
   "pygments_lexer": "ipython3",
   "version": "3.11.4"
  },
  "orig_nbformat": 4
 },
 "nbformat": 4,
 "nbformat_minor": 2
}
